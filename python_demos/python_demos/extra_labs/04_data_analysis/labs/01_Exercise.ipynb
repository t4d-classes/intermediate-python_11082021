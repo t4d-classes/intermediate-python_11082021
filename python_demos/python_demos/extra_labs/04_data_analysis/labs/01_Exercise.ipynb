{
 "cells": [
  {
   "cell_type": "markdown",
   "id": "83b399e8-f811-4ea4-8088-4d59208d9539",
   "metadata": {},
   "source": [
    "# Exercise #1"
   ]
  },
  {
   "cell_type": "markdown",
   "id": "df6ead18-01d5-4fca-916c-9ca41df2ef01",
   "metadata": {},
   "source": [
    "1. Create a two dimensional array populated with the numbers 0 to 63. The array should have a shape of 4 rows and 16 columns."
   ]
  },
  {
   "cell_type": "code",
   "execution_count": null,
   "id": "b572b568-6079-4670-b183-a33784020a3b",
   "metadata": {},
   "outputs": [],
   "source": [
    "# Step 1 Solution Here"
   ]
  },
  {
   "cell_type": "markdown",
   "id": "3ff11523-cdda-4cac-95a1-c52dff30be9b",
   "metadata": {},
   "source": [
    "2. Using the array created in the previous step, display the following:\n",
    "\n",
    "- Element Data Type\n",
    "- Number of Dimensions\n",
    "- Shape\n",
    "- Element Count\n",
    "- Item Size in Bytes\n",
    "- Array Size in Bytes"
   ]
  },
  {
   "cell_type": "code",
   "execution_count": null,
   "id": "4d851cb8-5fda-4ead-8e21-89c86d9767b6",
   "metadata": {},
   "outputs": [],
   "source": [
    "# Step 2 Solution Here"
   ]
  },
  {
   "cell_type": "markdown",
   "id": "0c2904cd-93b1-4f9a-8f31-f888dea32004",
   "metadata": {},
   "source": [
    "3. Subtract 10 from each element through a one-line subtraction operation."
   ]
  },
  {
   "cell_type": "code",
   "execution_count": null,
   "id": "bcc87466-a47c-4648-a9a1-dfbc997ffb38",
   "metadata": {},
   "outputs": [],
   "source": [
    "# Step 3 Solution Here"
   ]
  },
  {
   "cell_type": "markdown",
   "id": "2673e39f-e881-4553-a720-7e68c1293451",
   "metadata": {},
   "source": [
    "4. Multiply all even values with a -1."
   ]
  },
  {
   "cell_type": "code",
   "execution_count": null,
   "id": "5381eb00-5825-4919-a961-a720ff26031b",
   "metadata": {},
   "outputs": [],
   "source": [
    "# Step 4 Solution Here"
   ]
  },
  {
   "cell_type": "markdown",
   "id": "1a1a4af8-36ed-44b8-ab55-87bf929e1359",
   "metadata": {},
   "source": [
    "5. Replace all negative numbers with the NaN value. You may need to change data type."
   ]
  },
  {
   "cell_type": "code",
   "execution_count": null,
   "id": "52941bbb-4fa2-414c-a131-798a84c58f9a",
   "metadata": {},
   "outputs": [],
   "source": [
    "# Step 5 Solution"
   ]
  },
  {
   "cell_type": "markdown",
   "id": "7bc24e5a-25cf-4bb6-b6a5-e0b7f87d904d",
   "metadata": {},
   "source": [
    "6. Transform the 2d array into a 1d array. Drop all of the NaN values."
   ]
  },
  {
   "cell_type": "code",
   "execution_count": null,
   "id": "16672891-38f9-49e6-b007-97f2056f95de",
   "metadata": {},
   "outputs": [],
   "source": [
    "# Step 6 Solution"
   ]
  }
 ],
 "metadata": {
  "kernelspec": {
   "display_name": "conda_notebooks",
   "language": "python",
   "name": "conda_notebooks"
  },
  "language_info": {
   "codemirror_mode": {
    "name": "ipython",
    "version": 3
   },
   "file_extension": ".py",
   "mimetype": "text/x-python",
   "name": "python",
   "nbconvert_exporter": "python",
   "pygments_lexer": "ipython3",
   "version": "3.9.7"
  }
 },
 "nbformat": 4,
 "nbformat_minor": 5
}
