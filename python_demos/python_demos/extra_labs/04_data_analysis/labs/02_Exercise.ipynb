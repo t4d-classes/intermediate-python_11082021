{
 "cells": [
  {
   "cell_type": "markdown",
   "id": "2516a108-c093-4438-881f-a2af02e4ff61",
   "metadata": {},
   "source": [
    "# Exercise #2"
   ]
  },
  {
   "cell_type": "markdown",
   "id": "e83448a1-0cda-4b58-9315-b893885bc414",
   "metadata": {},
   "source": [
    "Step 1. Use the Python Standard Library to read the currency data for 2020 from the \"eurofxref-hist.csv\"."
   ]
  },
  {
   "cell_type": "code",
   "execution_count": null,
   "id": "8cdcc00d-fdde-48a3-99ad-0c4e37681993",
   "metadata": {},
   "outputs": [],
   "source": [
    "# Step 1 Solution"
   ]
  },
  {
   "cell_type": "markdown",
   "id": "e96fc032-94af-4946-8e39-6fe145e9d48d",
   "metadata": {},
   "source": [
    "Step 2. Create a new NumPy Array from the loaded currency data. The array should only contain the following columns: USD, CAD, JPY, and the RUB. Only load the data for the year 2020."
   ]
  },
  {
   "cell_type": "code",
   "execution_count": null,
   "id": "860c0cb6-36ee-48e7-8ab5-44965311ed31",
   "metadata": {},
   "outputs": [],
   "source": [
    "# Step 2 Solution"
   ]
  },
  {
   "cell_type": "markdown",
   "id": "855d3882-1506-4251-a74d-e7926465d2d5",
   "metadata": {},
   "source": [
    "Step 3. Add a new column for EUR data. Initialized each element with a 1. Display the new array with the USD, CAD, JPY, RUB, and EUR columns."
   ]
  },
  {
   "cell_type": "code",
   "execution_count": null,
   "id": "c4f82e3b-7c73-464f-bfaa-472e5b80c343",
   "metadata": {},
   "outputs": [],
   "source": [
    "# Step 3 Solution"
   ]
  },
  {
   "cell_type": "markdown",
   "id": "35e8f7c9-f825-43ad-8900-a6f6d4e0fc81",
   "metadata": {},
   "source": [
    "Step 4. The currency rates are all calculated with respect to the EUR. Update the rates to be calculated with respect to the USD. For each currency column on each row, divide each currency by the value for the USD. Display the array."
   ]
  },
  {
   "cell_type": "code",
   "execution_count": null,
   "id": "75b4d122-abef-41f3-8521-ac1165136e13",
   "metadata": {},
   "outputs": [],
   "source": [
    "# Step 4 Solution"
   ]
  },
  {
   "cell_type": "markdown",
   "id": "9a28ba22-e544-49e3-ae67-14a1e994b381",
   "metadata": {},
   "source": [
    "Step 5. For the EUR, what was the max and min value for 2020? What was the max and min value for the RUB?"
   ]
  },
  {
   "cell_type": "code",
   "execution_count": null,
   "id": "389b2675-eb4e-4fc2-b5c1-d2162900b8b7",
   "metadata": {},
   "outputs": [],
   "source": [
    "# Step 5 Solution"
   ]
  },
  {
   "cell_type": "markdown",
   "id": "89959cce-6d84-4d9a-ac06-3940c2fac356",
   "metadata": {},
   "source": [
    "Step 6. Plot the price of the EUR, USD, and JPY for each \"day\". The day number should be represented on the X-axis, and price of the currency on the Y-axis."
   ]
  },
  {
   "cell_type": "code",
   "execution_count": null,
   "id": "92ef5617-a234-4f29-a879-adb60c7fadc3",
   "metadata": {},
   "outputs": [],
   "source": [
    "# Step 6 Solution"
   ]
  }
 ],
 "metadata": {
  "kernelspec": {
   "display_name": "Python 3 (ipykernel)",
   "language": "python",
   "name": "python3"
  },
  "language_info": {
   "codemirror_mode": {
    "name": "ipython",
    "version": 3
   },
   "file_extension": ".py",
   "mimetype": "text/x-python",
   "name": "python",
   "nbconvert_exporter": "python",
   "pygments_lexer": "ipython3",
   "version": "3.9.7"
  }
 },
 "nbformat": 4,
 "nbformat_minor": 5
}
