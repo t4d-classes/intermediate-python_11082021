{
 "cells": [
  {
   "cell_type": "markdown",
   "id": "208944c2-efa0-4d81-b92c-ea133e724eb4",
   "metadata": {},
   "source": [
    "# Exercise #3"
   ]
  },
  {
   "cell_type": "markdown",
   "id": "a175ba2f-7361-452e-88c7-911dac1a2519",
   "metadata": {},
   "source": [
    "Step 1. Use the Python Standard Library to read the currency data for 2019 from the \"eurofxref-hist.csv\". Create a new NumPy Array from the loaded currency data. The array should only contain the following columns: USD, CAD, JPY, and the RUB. Display the array."
   ]
  },
  {
   "cell_type": "code",
   "execution_count": null,
   "id": "e47e02d4-c3a5-4cf1-bf0b-1b75b1469b72",
   "metadata": {},
   "outputs": [],
   "source": [
    "# Step 1 Solution"
   ]
  },
  {
   "cell_type": "markdown",
   "id": "93d26cb9-b5fe-4551-ac23-36b8b80338fb",
   "metadata": {},
   "source": [
    "Step 2. Calculate the population min, max, range, mean, median, mode, standard deviation, and variance."
   ]
  },
  {
   "cell_type": "code",
   "execution_count": null,
   "id": "de771389-4845-426e-b246-c4fff0826501",
   "metadata": {},
   "outputs": [],
   "source": [
    "# Step 2 Solution"
   ]
  },
  {
   "cell_type": "markdown",
   "id": "c20bafd7-3892-48d3-87f0-463c51f76d34",
   "metadata": {},
   "source": [
    "Step 3. Select a random sample size of 30 for each currency. Calculate the sample min, max, range, mean, median, mode, standard deviation, and variance."
   ]
  },
  {
   "cell_type": "code",
   "execution_count": null,
   "id": "6c503de3-09d9-4425-8129-3fce7d630806",
   "metadata": {},
   "outputs": [],
   "source": [
    "# Step 3 Solution"
   ]
  },
  {
   "cell_type": "markdown",
   "id": "75a6b12e-59a6-4995-abe2-02bd5719292f",
   "metadata": {},
   "source": [
    "Step 4. Generate a boxplot for the population of each currency. I recommend one boxplot for each currency."
   ]
  },
  {
   "cell_type": "code",
   "execution_count": null,
   "id": "636b9df3-b72e-48ac-aaba-16afa5a632f2",
   "metadata": {},
   "outputs": [],
   "source": [
    "# Step 4 Solution"
   ]
  }
 ],
 "metadata": {
  "kernelspec": {
   "display_name": "conda_notebooks",
   "language": "python",
   "name": "conda_notebooks"
  },
  "language_info": {
   "codemirror_mode": {
    "name": "ipython",
    "version": 3
   },
   "file_extension": ".py",
   "mimetype": "text/x-python",
   "name": "python",
   "nbconvert_exporter": "python",
   "pygments_lexer": "ipython3",
   "version": "3.9.7"
  }
 },
 "nbformat": 4,
 "nbformat_minor": 5
}
